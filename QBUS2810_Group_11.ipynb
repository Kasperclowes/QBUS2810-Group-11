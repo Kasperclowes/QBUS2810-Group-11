{
 "cells": [
  {
   "cell_type": "code",
   "execution_count": null,
   "id": "2c2cb67d-6a70-425f-8a5b-218e40e04647",
   "metadata": {},
   "outputs": [],
   "source": []
  }
 ],
 "metadata": {
  "kernelspec": {
   "display_name": "",
   "name": ""
  },
  "language_info": {
   "name": ""
  }
 },
 "nbformat": 4,
 "nbformat_minor": 5
}
